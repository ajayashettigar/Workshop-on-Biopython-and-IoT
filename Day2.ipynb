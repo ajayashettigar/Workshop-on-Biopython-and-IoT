{
 "cells": [
  {
   "cell_type": "code",
   "execution_count": 3,
   "id": "f69fd25d",
   "metadata": {},
   "outputs": [
    {
     "name": "stdout",
     "output_type": "stream",
     "text": [
      "10\n",
      "20\n",
      "30\n"
     ]
    }
   ],
   "source": [
    "a=10;\n",
    "b=20;\n",
    "c=30;\n",
    "print(a);\n",
    "print(b);\n",
    "print(c);"
   ]
  },
  {
   "cell_type": "code",
   "execution_count": 2,
   "id": "3cddf919",
   "metadata": {},
   "outputs": [
    {
     "name": "stdout",
     "output_type": "stream",
     "text": [
      "15\n",
      "18\n"
     ]
    }
   ],
   "source": [
    "x=15; print(x); x=x+3; print(x);"
   ]
  },
  {
   "cell_type": "code",
   "execution_count": 4,
   "id": "92cf2e62",
   "metadata": {},
   "outputs": [
    {
     "name": "stdout",
     "output_type": "stream",
     "text": [
      "20\n",
      "20\n",
      "20\n"
     ]
    }
   ],
   "source": [
    "#multiple assignments\n",
    "x=y=a=b=abc=pqr=20;\n",
    "print(x);\n",
    "print(pqr);\n",
    "print(abc);"
   ]
  },
  {
   "cell_type": "code",
   "execution_count": 5,
   "id": "07497179",
   "metadata": {},
   "outputs": [
    {
     "ename": "SyntaxError",
     "evalue": "invalid syntax (2064762375.py, line 1)",
     "output_type": "error",
     "traceback": [
      "\u001b[1;36m  Cell \u001b[1;32mIn[5], line 1\u001b[1;36m\u001b[0m\n\u001b[1;33m    def=30;\u001b[0m\n\u001b[1;37m       ^\u001b[0m\n\u001b[1;31mSyntaxError\u001b[0m\u001b[1;31m:\u001b[0m invalid syntax\n"
     ]
    }
   ],
   "source": [
    "def=30;\n",
    "#def is a reserved keyword"
   ]
  },
  {
   "cell_type": "code",
   "execution_count": 7,
   "id": "5c2b76c2",
   "metadata": {},
   "outputs": [
    {
     "name": "stdout",
     "output_type": "stream",
     "text": [
      "10 bioinfo biotech <class 'str'>\n",
      "<class 'float'>\n"
     ]
    }
   ],
   "source": [
    "#single value variable\n",
    "x=10;\n",
    "y='bioinfo';\n",
    "abc='biotech';\n",
    "print(x,y,abc,type(abc));\n",
    "a=2.3;\n",
    "print(type(a));"
   ]
  },
  {
   "cell_type": "markdown",
   "id": "9213dfb0",
   "metadata": {},
   "source": [
    "# List and List operations"
   ]
  },
  {
   "cell_type": "code",
   "execution_count": 10,
   "id": "3ad64d14",
   "metadata": {},
   "outputs": [
    {
     "name": "stdout",
     "output_type": "stream",
     "text": [
      "[10, 20, True, 'bio', 'Tech', 'True']\n",
      "<class 'list'>\n"
     ]
    }
   ],
   "source": [
    "#list variable\n",
    "a=[10,20,True,'bio',\"Tech\",'True'];\n",
    "#list of mixed datatypes\n",
    "print(a);\n",
    "print(type(a));"
   ]
  },
  {
   "cell_type": "code",
   "execution_count": 13,
   "id": "eb215eea",
   "metadata": {},
   "outputs": [
    {
     "name": "stdout",
     "output_type": "stream",
     "text": [
      "3\n",
      "[4, 5, 6, 7, 8]\n",
      "[1, 2, 3, 4, 5, 6, 7]\n",
      "[3, 4, 5, 6, 7, 8, 9, 10, 11, 12, 13, 14, 15]\n",
      "15\n",
      "14\n",
      "15\n"
     ]
    }
   ],
   "source": [
    "#how to fetch elements from a list\n",
    "a=[1,2,3,4,5,6,7,8,9,10,11,12,13,14,15];\n",
    "print(a[2]);\n",
    "print(a[3:8]); #start index : end index - 1th index\n",
    "print(a[:7]); #0th index : end -1th index\n",
    "print(a[2:]); #start index : end index\n",
    "print(a[-1]); #last element of the list\n",
    "print(a[-2]);\n",
    "print(len(a));"
   ]
  },
  {
   "cell_type": "code",
   "execution_count": 27,
   "id": "0f986065",
   "metadata": {},
   "outputs": [
    {
     "name": "stdout",
     "output_type": "stream",
     "text": [
      "[11, 12, 13]\n",
      "12\n",
      "31\n"
     ]
    }
   ],
   "source": [
    "#nested lists\n",
    "b=[1,2,3,[11,12,13],4,5,[21,22,23],6,[30,[31,32]]];\n",
    "print(b[3]);\n",
    "print(b[3][1]);\n",
    "print(b[8][1][0]);"
   ]
  },
  {
   "cell_type": "code",
   "execution_count": 23,
   "id": "eedc5c48",
   "metadata": {},
   "outputs": [
    {
     "name": "stdout",
     "output_type": "stream",
     "text": [
      "[10, 20, 30, 40, 50, 60]\n",
      "[10, 20, 30, 40, 50, 60, 70, 80]\n"
     ]
    }
   ],
   "source": [
    "#how to append a list\n",
    "x=[10,20,30,40,50,60];\n",
    "print(x);\n",
    "x=x+[70,80];\n",
    "print(x);"
   ]
  },
  {
   "cell_type": "code",
   "execution_count": 34,
   "id": "7b8e2f38",
   "metadata": {},
   "outputs": [
    {
     "name": "stdout",
     "output_type": "stream",
     "text": [
      "[1, 2, 3, 4, 5, 6, 7]\n",
      "[1, 2, 3, 4, 5, 6, 7, [8, 9, 10]]\n",
      "[1, 2, 3, 4, 5, 6, 7, [8, 9, 10], 8]\n"
     ]
    }
   ],
   "source": [
    "x=[1,2,3,4,5,6,7];\n",
    "print(x);\n",
    "x.append([8,9,10]);\n",
    "print(x);\n",
    "x.append(8);\n",
    "print(x);\n",
    "#x.append(8,9); #gives type error, as append() takes only one at a time"
   ]
  },
  {
   "cell_type": "code",
   "execution_count": 36,
   "id": "5b390d21",
   "metadata": {},
   "outputs": [
    {
     "name": "stdout",
     "output_type": "stream",
     "text": [
      "['apple', 'ball', 'cat']\n",
      "['apple', 'ball', 'cat', 'dog', 'egg']\n",
      "['apple', 'ball', 'cat', 'dog', 'egg', 'fish']\n",
      "['apple', 'ball', 'cat', 'dog', 'egg', 'fish', ['fish', 'goat']]\n"
     ]
    }
   ],
   "source": [
    "y=['apple','ball','cat'];\n",
    "print(y);\n",
    "y=y+['dog','egg'];\n",
    "print(y);\n",
    "y.append('fish');\n",
    "print(y);\n",
    "y.append(['fish','goat']);\n",
    "print(y);"
   ]
  },
  {
   "cell_type": "code",
   "execution_count": 63,
   "id": "6c845509",
   "metadata": {},
   "outputs": [
    {
     "name": "stdout",
     "output_type": "stream",
     "text": [
      "[1, 2, 3, 4, 5, 6, [10, 20], 7, 8]\n",
      "[1, 2, 3, 5, 6, [10, 20], 7, 8]\n",
      "[1, 2, 3, 7, 8]\n",
      "[1, 2, 3, 4, 5, [10, 20], 7, 8]\n",
      "[1, 2, 3, 4, 5, [20], 7, 8]\n",
      "[1, 2, 3, 4, 5, [20], 7]\n"
     ]
    }
   ],
   "source": [
    "#how to delete elements from a list\n",
    "a=[1,2,3,4,5,6,[10,20],7,8];\n",
    "print(a);\n",
    "del a[3];\n",
    "print(a);\n",
    "del a[3:6];\n",
    "print(a);\n",
    "\n",
    "#difference between delete and remove\n",
    "a=[1,2,3,4,5,6,[10,20],7,8];\n",
    "a.remove(6);\n",
    "print(a);\n",
    "a[5].remove(a[5][0]);\n",
    "print(a);\n",
    "a.remove(a[-1]);\n",
    "print(a);"
   ]
  },
  {
   "cell_type": "code",
   "execution_count": 60,
   "id": "641b742c",
   "metadata": {},
   "outputs": [
    {
     "name": "stdout",
     "output_type": "stream",
     "text": [
      "[1, 2, 3, 1, 2, 3, 1, 2, 3]\n",
      "[1, 2, 1, 2, 3, 1, 2, 3]\n",
      "[1, 2, 1, 2, 1, 2, 3]\n",
      "[1, 2, 3, 1, 2, 3, 1, 2]\n"
     ]
    }
   ],
   "source": [
    "x=[1,2,3,1,2,3,1,2,3];\n",
    "print(x);\n",
    "x.remove(3);\n",
    "print(x);\n",
    "x.remove(x[-1]);\n",
    "print(x);\n",
    "x=[1,2,3,1,2,3,1,2,3];\n",
    "del x[-1];\n",
    "print(x);"
   ]
  },
  {
   "cell_type": "code",
   "execution_count": 69,
   "id": "1c226c80",
   "metadata": {},
   "outputs": [
    {
     "name": "stdout",
     "output_type": "stream",
     "text": [
      "[1, 2, 1, [10, 20, 30], 2, 1, 2]\n"
     ]
    }
   ],
   "source": [
    "x=[1,2,3,1,[10,20,30],2,3,1,2,3];\n",
    "for i in x:\n",
    "    if i==3:\n",
    "        x.remove(i);\n",
    "print(x);"
   ]
  },
  {
   "cell_type": "code",
   "execution_count": 74,
   "id": "db24c8c7",
   "metadata": {},
   "outputs": [
    {
     "name": "stdout",
     "output_type": "stream",
     "text": [
      "[10, 20, 30, 40, 50, 60, 70]\n",
      "[10, 20, 30, 200, 40, 50, 60, 70]\n",
      "[10, 20, 30, 200, [100, 300], 40, 50, 60, 70]\n"
     ]
    }
   ],
   "source": [
    "a=[10,20,30,40,50,60,70];\n",
    "print(a);\n",
    "a.insert(3,200);\n",
    "print(a);\n",
    "a.insert(4,[100,300]);\n",
    "print(a);"
   ]
  },
  {
   "cell_type": "code",
   "execution_count": 6,
   "id": "7a4ad1d5",
   "metadata": {},
   "outputs": [
    {
     "name": "stdout",
     "output_type": "stream",
     "text": [
      "[1, 2, 3, 4, 5]\n",
      "[1, 2, 3, 4, 5, [7, 8, 9]]\n",
      "[1, 2, 3, 4, 5, [7, 8, 9], 7, 8, 9]\n",
      "[1, 2, [5, 6], 3, 4, 5, [7, 8, 9], 7, 8, 9]\n"
     ]
    }
   ],
   "source": [
    "b=[1,2,3,4,5];\n",
    "print(b);\n",
    "b.append([7,8,9]);\n",
    "print(b);\n",
    "b.extend([7,8,9]); #difference between append and extend\n",
    "print(b);\n",
    "b.insert(2,[5,6]);\n",
    "print(b);"
   ]
  },
  {
   "cell_type": "code",
   "execution_count": 133,
   "id": "3d3ecbf8",
   "metadata": {},
   "outputs": [
    {
     "name": "stdout",
     "output_type": "stream",
     "text": [
      "[1, 2, 3, 4, 5]\n",
      "[1, 2, 3, 4, 5, 1, 2, 3, 4, 5]\n",
      "[4, 4]\n"
     ]
    }
   ],
   "source": [
    "#repeat elements using '*' operator\n",
    "x=[1,2,3,4,5];\n",
    "print(x);\n",
    "print(x*2);\n",
    "print([x[3]]*2);\n",
    "for i in range(0,len(x)):\n",
    "    if x[i]>=30:\n",
    "        print([x[i]]*2);"
   ]
  },
  {
   "cell_type": "code",
   "execution_count": 7,
   "id": "8123b303",
   "metadata": {},
   "outputs": [
    {
     "name": "stdout",
     "output_type": "stream",
     "text": [
      "[10, 20, 30, 30, 30, 40, 50]\n",
      "None\n"
     ]
    }
   ],
   "source": [
    "#input> x=[10,20,30,40,50] output> x=[10,20,30,30,40,50]\n",
    "x=[10,20,30,40,50];\n",
    "index = 3;\n",
    "element = 30;\n",
    "\n",
    "x = x[:index] + [element]*2 + x[index:];\n",
    "print(x);\n",
    "\n",
    "x=x.insert(3,30);\n",
    "print(x);"
   ]
  },
  {
   "cell_type": "code",
   "execution_count": 9,
   "id": "da82fb09",
   "metadata": {},
   "outputs": [
    {
     "name": "stdout",
     "output_type": "stream",
     "text": [
      "[10, 20, 30, 30, 40, 50, 30]\n"
     ]
    }
   ],
   "source": [
    "x = [10,20,30,40,50]\n",
    "x.insert(3,30)\n",
    "x.insert(3*2,30)\n",
    "print(x)"
   ]
  },
  {
   "cell_type": "code",
   "execution_count": 18,
   "id": "46bc6a29",
   "metadata": {},
   "outputs": [
    {
     "name": "stdout",
     "output_type": "stream",
     "text": [
      "Enter the value for n:5\n",
      "[1, 1, 2, 2, 3, 3, 4, 4, 5, 5]\n"
     ]
    }
   ],
   "source": [
    "#Bhakti\n",
    "#x = [1, 2, 3, 4, 5, 6, 7, 8, 9, 10];\n",
    "\n",
    "n = int(input('Enter the value for n:')); # Replace 'n' with the desired index\n",
    "y = x[:n] * 2;  # Repeat elements up to index 'n' twice\n",
    "y.sort();\n",
    "print(y);"
   ]
  },
  {
   "cell_type": "code",
   "execution_count": 103,
   "id": "d79edbea",
   "metadata": {},
   "outputs": [
    {
     "name": "stdout",
     "output_type": "stream",
     "text": [
      "[1, 2, 100, 200, 7, 8, 0, 5000, 999, 420, 143, 9999]\n",
      "12\n",
      "9999\n",
      "0\n",
      "200\n",
      "5000\n",
      "5000\n",
      "0\n"
     ]
    }
   ],
   "source": [
    "#min and min\n",
    "a=[1,2,100,200,7,8,0,5000,999,420,143,9999];\n",
    "print(a);\n",
    "print(len(a));\n",
    "print(max(a));\n",
    "print(min(a));\n",
    "print(max(a[0:6]));\n",
    "print(max(a[5:11]));\n",
    "print(max(a[3:-1]));\n",
    "print(min(a[-12:-2]));"
   ]
  },
  {
   "cell_type": "code",
   "execution_count": 104,
   "id": "715f3724",
   "metadata": {},
   "outputs": [
    {
     "name": "stdout",
     "output_type": "stream",
     "text": [
      "[2, 69, 420, 500, 600, 999, 400, 7, 9]\n",
      "[2, 7, 9, 69, 400, 420, 500, 600, 999]\n",
      "[999, 600, 500, 420, 400, 69, 9, 7, 2]\n"
     ]
    }
   ],
   "source": [
    "#sorting in ascending and descending order\n",
    "x=[2,69,420,500,600,999,400,7,9];\n",
    "print(x);\n",
    "print(sorted(x));\n",
    "print(sorted(x,reverse=True));"
   ]
  },
  {
   "cell_type": "code",
   "execution_count": 107,
   "id": "3ce4f997",
   "metadata": {},
   "outputs": [
    {
     "name": "stdout",
     "output_type": "stream",
     "text": [
      "[10, 20, 30, 40, 20, 50, 20, 60, 100, 20, 70, 80]\n",
      "4\n"
     ]
    }
   ],
   "source": [
    "b=[10,20,30,40,20,50,20,60,100,20,70,80];\n",
    "print(b);\n",
    "print(b.count(20));"
   ]
  },
  {
   "cell_type": "code",
   "execution_count": 121,
   "id": "987975dd",
   "metadata": {},
   "outputs": [
    {
     "name": "stdout",
     "output_type": "stream",
     "text": [
      "The number of A is : 9\n",
      "The number of T is : 7\n",
      "The number of G is : 10\n",
      "The number of C is : 9\n",
      "The total length of g is : 35 bp\n",
      "The total gc content is 19\n",
      "The total at content is 16\n",
      "GC% is 54.29\n",
      "AT% is 45.71\n",
      "Molecular weight of the gene is 10860.02 daltons\n"
     ]
    }
   ],
   "source": [
    "g=\"ATGCATCGAGCTAGCTGAACGGTCGCTAACGCTGA\";\n",
    "print(\"The number of A is :\", g.count('A'));\n",
    "print(\"The number of T is :\", g.count('T'));\n",
    "print(\"The number of G is :\", g.count('G'));\n",
    "print(\"The number of C is :\", g.count('C'));\n",
    "Tot=len(g);\n",
    "print(\"The total length of g is :\", Tot, \"bp\");\n",
    "gc=g.count('G')+g.count('C');\n",
    "at=g.count('A')+g.count('T');\n",
    "print(\"The total gc content is\",gc);\n",
    "print(\"The total at content is\",at);\n",
    "gp=(gc/Tot)*100;\n",
    "ap=(at/Tot)*100;\n",
    "print(\"GC% is\",round(gp,2));\n",
    "print(\"AT% is\",round(ap,2));\n",
    "#molecular weight\n",
    "mw=g.count('G')*329.21+g.count('A')*313.21+g.count('T')*304.2+g.count('C')*289.18+17.01\n",
    "print('Molecular weight of the gene is', round(mw,2), 'daltons');"
   ]
  },
  {
   "cell_type": "code",
   "execution_count": 128,
   "id": "5200974e",
   "metadata": {
    "scrolled": true
   },
   "outputs": [
    {
     "name": "stdout",
     "output_type": "stream",
     "text": [
      "Enter the DNA string:ATCGACGTATACGATCGTTTACGCGCT\n",
      "The number of A is : 6\n",
      "The number of T is : 8\n",
      "The number of G is : 6\n",
      "The number of C is : 7\n",
      "The total length of g is : 27 bp\n",
      "The total gc content is 13\n",
      "The total at content is 14\n",
      "GC% is 48.15\n",
      "AT% is 51.85\n",
      "Molecular weight of the gene is 8329.39 daltons\n"
     ]
    }
   ],
   "source": [
    "#input function\n",
    "g=input('Enter the DNA string:')\n",
    "print(\"The number of A is :\", g.count('A'));\n",
    "print(\"The number of T is :\", g.count('T'));\n",
    "print(\"The number of G is :\", g.count('G'));\n",
    "print(\"The number of C is :\", g.count('C'));\n",
    "Tot=len(g);\n",
    "print(\"The total length of g is :\", Tot, \"bp\");\n",
    "gc=g.count('G')+g.count('C');\n",
    "at=g.count('A')+g.count('T');\n",
    "print(\"The total gc content is\",gc);\n",
    "print(\"The total at content is\",at);\n",
    "gp=(gc/Tot)*100;\n",
    "ap=(at/Tot)*100;\n",
    "print(\"GC% is\",round(gp,2));\n",
    "print(\"AT% is\",round(ap,2));\n",
    "#molecular weight\n",
    "mw=g.count('G')*329.21+g.count('A')*313.21+g.count('T')*304.2+g.count('C')*289.18+17.01\n",
    "print('Molecular weight of the gene is', round(mw,2),'daltons');"
   ]
  },
  {
   "cell_type": "code",
   "execution_count": 136,
   "id": "1fa5399b",
   "metadata": {},
   "outputs": [
    {
     "name": "stdout",
     "output_type": "stream",
     "text": [
      "Requirement already satisfied: biopython in d:\\anaconda\\lib\\site-packages (1.81)\n",
      "Requirement already satisfied: numpy in d:\\anaconda\\lib\\site-packages (from biopython) (1.24.3)\n",
      "Note: you may need to restart the kernel to use updated packages.\n"
     ]
    }
   ],
   "source": [
    "pip install biopython"
   ]
  },
  {
   "cell_type": "code",
   "execution_count": 135,
   "id": "60523c94",
   "metadata": {},
   "outputs": [],
   "source": [
    "from Bio import Seq"
   ]
  },
  {
   "cell_type": "code",
   "execution_count": 137,
   "id": "c05a8b79",
   "metadata": {},
   "outputs": [
    {
     "name": "stdout",
     "output_type": "stream",
     "text": [
      "10\n"
     ]
    }
   ],
   "source": [
    "x=10;\n",
    "print(x);"
   ]
  },
  {
   "cell_type": "code",
   "execution_count": 138,
   "id": "57dda03a",
   "metadata": {},
   "outputs": [
    {
     "name": "stdout",
     "output_type": "stream",
     "text": [
      "[160, 151, 200, 30, 20]\n"
     ]
    }
   ],
   "source": [
    "#reverse a list\n",
    "a=[20,30,200,151,160];\n",
    "print(a[::-1]);"
   ]
  },
  {
   "cell_type": "code",
   "execution_count": 145,
   "id": "186482c7",
   "metadata": {},
   "outputs": [
    {
     "name": "stdout",
     "output_type": "stream",
     "text": [
      "Enter DNA sequenceATGCGCTAGC\n",
      "CGATCGCGTA\n"
     ]
    }
   ],
   "source": [
    "#reverse character list\n",
    "x=input('Enter DNA sequence');\n",
    "print(x[::-1]);"
   ]
  },
  {
   "cell_type": "code",
   "execution_count": 144,
   "id": "49f3ff03",
   "metadata": {},
   "outputs": [
    {
     "name": "stdout",
     "output_type": "stream",
     "text": [
      "[10, 20, 30, 40, 50]\n",
      "[10, 20, 30, 40, 50]\n"
     ]
    }
   ],
   "source": [
    "#copy a list to another\n",
    "a=[10,20,30,40,50];\n",
    "print(a);\n",
    "b=a.copy();\n",
    "print(b);"
   ]
  },
  {
   "cell_type": "code",
   "execution_count": 141,
   "id": "9488bb9a",
   "metadata": {
    "scrolled": false
   },
   "outputs": [
    {
     "name": "stdout",
     "output_type": "stream",
     "text": [
      "[1, 2, 3, 4, 5, 6]\n",
      "[]\n"
     ]
    }
   ],
   "source": [
    "#empty a list\n",
    "a=[1,2,3,4,5,6];\n",
    "print(a);\n",
    "a.clear();\n",
    "print(a);"
   ]
  },
  {
   "cell_type": "code",
   "execution_count": 146,
   "id": "604bdbbf",
   "metadata": {},
   "outputs": [
    {
     "name": "stdout",
     "output_type": "stream",
     "text": [
      "2\n"
     ]
    }
   ],
   "source": [
    "x=[7,8,1,3,5,4];\n",
    "print(x.index(1));"
   ]
  },
  {
   "cell_type": "code",
   "execution_count": 147,
   "id": "783cf24f",
   "metadata": {},
   "outputs": [
    {
     "name": "stdout",
     "output_type": "stream",
     "text": [
      "20\n"
     ]
    }
   ],
   "source": [
    "#sum function\n",
    "a=[2,3,4,6,5];\n",
    "print(sum(a));"
   ]
  },
  {
   "cell_type": "code",
   "execution_count": 149,
   "id": "a88bef07",
   "metadata": {},
   "outputs": [
    {
     "name": "stdout",
     "output_type": "stream",
     "text": [
      "bioinformatics\n"
     ]
    }
   ],
   "source": [
    "#difference between append() and join()\n",
    "#join\n",
    "a=['bio','infor','matics'];\n",
    "b='';\n",
    "print(b.join(a));"
   ]
  },
  {
   "cell_type": "code",
   "execution_count": 151,
   "id": "ddfc159c",
   "metadata": {},
   "outputs": [
    {
     "name": "stdout",
     "output_type": "stream",
     "text": [
      "BIOINFORMATICS\n",
      "biotechnology\n"
     ]
    }
   ],
   "source": [
    "x='bioinformatics';\n",
    "y='BIOTECHNOLOGY';\n",
    "print(x.upper());\n",
    "print(y.lower());"
   ]
  },
  {
   "cell_type": "code",
   "execution_count": 157,
   "id": "fe64e3fa",
   "metadata": {},
   "outputs": [
    {
     "name": "stdout",
     "output_type": "stream",
     "text": [
      "H\n",
      "Hey Bhumika,\n",
      "ur so beautiful, so elegant,\n",
      "just loo\n"
     ]
    }
   ],
   "source": [
    "#paragraph\n",
    "x='''Hey Bhumika,\n",
    "ur so beautiful, so elegant,\n",
    "just looking like a wow!!'''\n",
    "print(x[0]);\n",
    "print(x[0:50]);"
   ]
  },
  {
   "cell_type": "code",
   "execution_count": 159,
   "id": "d1e2c2c4",
   "metadata": {},
   "outputs": [
    {
     "name": "stdout",
     "output_type": "stream",
     "text": [
      "(1, 2, 3, 4, 5, 6)\n"
     ]
    }
   ],
   "source": [
    "#tuple\n",
    "#how to create a tuple\n",
    "#how to fetch element from tuple\n",
    "a=(1,2,3,4,5,6);\n",
    "print(a);"
   ]
  },
  {
   "cell_type": "code",
   "execution_count": 160,
   "id": "497ffb76",
   "metadata": {},
   "outputs": [],
   "source": [
    "#we cannot replace, delete, remove any element from tuple\n",
    "a=(1,2,3,4,5,6,7);\n"
   ]
  },
  {
   "cell_type": "code",
   "execution_count": 169,
   "id": "1d908f93",
   "metadata": {},
   "outputs": [
    {
     "name": "stdout",
     "output_type": "stream",
     "text": [
      "(1, 2, 3, 4, 5, 6)\n"
     ]
    }
   ],
   "source": [
    "#we can add elements to tuple\n",
    "a=(1,2,3);\n",
    "a=a+(4,5,6);\n",
    "print(a);"
   ]
  },
  {
   "cell_type": "code",
   "execution_count": 170,
   "id": "14965fb4",
   "metadata": {},
   "outputs": [
    {
     "name": "stdout",
     "output_type": "stream",
     "text": [
      "{'a': 10, 'b': 100, 'c': [10, 20], 'd': 'Aj', 'e': (10, 20), 'f': {10, 20}}\n"
     ]
    }
   ],
   "source": [
    "#dictionary\n",
    "a={'a':10,'b':100,'c':[10,20],'d':'Aj','e':(10,20),'f':{10,20}};\n",
    "print(a);"
   ]
  },
  {
   "cell_type": "code",
   "execution_count": 176,
   "id": "bab23465",
   "metadata": {},
   "outputs": [
    {
     "name": "stdout",
     "output_type": "stream",
     "text": [
      "10\n",
      "10\n",
      "20\n"
     ]
    }
   ],
   "source": [
    "a={'a':10,'b':100,'c':[10,20],'d':'Aj','e':(10,20),'f':{10,20}};\n",
    "print(a['a']);\n",
    "print(a['c'][0]);\n",
    "print(a['e'][1]);"
   ]
  },
  {
   "cell_type": "code",
   "execution_count": 178,
   "id": "02512d74",
   "metadata": {},
   "outputs": [
    {
     "name": "stdout",
     "output_type": "stream",
     "text": [
      "dict_keys(['a', 'b', 'c', 'd', 'e', 'f'])\n",
      "dict_values([10, 100, [10, 20], 'Aj', (10, 20), {10, 20}])\n"
     ]
    }
   ],
   "source": [
    "a={'a':10,'b':100,'c':[10,20],'d':'Aj','e':(10,20),'f':{10,20}};\n",
    "print(a.keys());\n",
    "print(a.values());"
   ]
  },
  {
   "cell_type": "code",
   "execution_count": 6,
   "id": "bd3296dd",
   "metadata": {},
   "outputs": [
    {
     "name": "stdout",
     "output_type": "stream",
     "text": [
      "Enter the name :dsf\n",
      "Enter ur age :32\n",
      "Enter ur USN :sfddsf\n",
      "Say YES/NO :yes\n"
     ]
    },
    {
     "ename": "TypeError",
     "evalue": "unsupported operand type(s) for +: 'dict' and 'str'",
     "output_type": "error",
     "traceback": [
      "\u001b[1;31m---------------------------------------------------------------------------\u001b[0m",
      "\u001b[1;31mTypeError\u001b[0m                                 Traceback (most recent call last)",
      "Cell \u001b[1;32mIn[6], line 3\u001b[0m\n\u001b[0;32m      1\u001b[0m a\u001b[38;5;241m=\u001b[39m{\u001b[38;5;124m'\u001b[39m\u001b[38;5;124mName\u001b[39m\u001b[38;5;124m'\u001b[39m:\u001b[38;5;28minput\u001b[39m(\u001b[38;5;124m'\u001b[39m\u001b[38;5;124mEnter the name :\u001b[39m\u001b[38;5;124m'\u001b[39m),\u001b[38;5;124m'\u001b[39m\u001b[38;5;124mAge\u001b[39m\u001b[38;5;124m'\u001b[39m:\u001b[38;5;28minput\u001b[39m(\u001b[38;5;124m'\u001b[39m\u001b[38;5;124mEnter ur age :\u001b[39m\u001b[38;5;124m'\u001b[39m),\u001b[38;5;124m'\u001b[39m\u001b[38;5;124mUSN\u001b[39m\u001b[38;5;124m'\u001b[39m:\u001b[38;5;28minput\u001b[39m(\u001b[38;5;124m'\u001b[39m\u001b[38;5;124mEnter ur USN :\u001b[39m\u001b[38;5;124m'\u001b[39m), \\\n\u001b[0;32m      2\u001b[0m    \u001b[38;5;124m'\u001b[39m\u001b[38;5;124mGender\u001b[39m\u001b[38;5;124m'\u001b[39m:\u001b[38;5;28minput\u001b[39m(\u001b[38;5;124m'\u001b[39m\u001b[38;5;124mSay YES/NO :\u001b[39m\u001b[38;5;124m'\u001b[39m)};\n\u001b[1;32m----> 3\u001b[0m \u001b[38;5;28mprint\u001b[39m(a\u001b[38;5;241m+\u001b[39m \u001b[38;5;124m\"\u001b[39m\u001b[38;5;124mur gay\u001b[39m\u001b[38;5;124m\"\u001b[39m)\n",
      "\u001b[1;31mTypeError\u001b[0m: unsupported operand type(s) for +: 'dict' and 'str'"
     ]
    }
   ],
   "source": [
    "a={'Name':input('Enter the name :'),'Age':input('Enter ur age :'),'USN':input('Enter ur USN :'), \\\n",
    "   'Gender':input('Say YES/NO :')};\n",
    "print(ur gay);"
   ]
  },
  {
   "cell_type": "code",
   "execution_count": 186,
   "id": "8fa2281d",
   "metadata": {},
   "outputs": [
    {
     "name": "stdout",
     "output_type": "stream",
     "text": [
      "{'a': 10, 'name': 'Ajay', 'wifi': (10, 20)}\n"
     ]
    }
   ],
   "source": [
    "#how to add new key or add value to exisiting key\n",
    "x={'a':10,'name':'Ajay'};\n",
    "x['wifi']=(10,20);\n",
    "print(x);"
   ]
  },
  {
   "cell_type": "code",
   "execution_count": 188,
   "id": "a5018b59",
   "metadata": {},
   "outputs": [
    {
     "name": "stdout",
     "output_type": "stream",
     "text": [
      "{'name': 'Ajay'}\n"
     ]
    }
   ],
   "source": [
    "#delete a key\n",
    "x={'a':10,'name':'Ajay'};\n",
    "del x['a'];\n",
    "print(x);"
   ]
  },
  {
   "cell_type": "code",
   "execution_count": 190,
   "id": "52c5a93c",
   "metadata": {},
   "outputs": [
    {
     "name": "stdout",
     "output_type": "stream",
     "text": [
      "{}\n"
     ]
    }
   ],
   "source": [
    "#empty dict\n",
    "x={'a':10,'name':'Ajay'};\n",
    "x.clear();\n",
    "print(x);"
   ]
  },
  {
   "cell_type": "code",
   "execution_count": 194,
   "id": "fd00dbaa",
   "metadata": {},
   "outputs": [
    {
     "name": "stdout",
     "output_type": "stream",
     "text": [
      "{'a': 10, 'name': 'Ajay', 'b': 20}\n"
     ]
    }
   ],
   "source": [
    "#merge dict\n",
    "x={'a':10,'name':'Ajay'};\n",
    "y={'b':20};\n",
    "print({**x,**y});"
   ]
  },
  {
   "cell_type": "code",
   "execution_count": 7,
   "id": "b853b143",
   "metadata": {},
   "outputs": [
    {
     "name": "stdout",
     "output_type": "stream",
     "text": [
      "2\n",
      "False\n",
      "True\n",
      "False\n"
     ]
    }
   ],
   "source": [
    "#length\n",
    "x={'a':10,'name':'Ajay'};\n",
    "print(len(x));\n",
    "\n",
    "#checking the membership of a key\n",
    "print('c' in x.keys());\n",
    "print('a' in x.keys());\n",
    "print('a' not in x.keys());"
   ]
  },
  {
   "cell_type": "code",
   "execution_count": null,
   "id": "1df8849a",
   "metadata": {},
   "outputs": [],
   "source": [
    "import random\n",
    "a="
   ]
  }
 ],
 "metadata": {
  "kernelspec": {
   "display_name": "Python 3 (ipykernel)",
   "language": "python",
   "name": "python3"
  },
  "language_info": {
   "codemirror_mode": {
    "name": "ipython",
    "version": 3
   },
   "file_extension": ".py",
   "mimetype": "text/x-python",
   "name": "python",
   "nbconvert_exporter": "python",
   "pygments_lexer": "ipython3",
   "version": "3.11.5"
  }
 },
 "nbformat": 4,
 "nbformat_minor": 5
}

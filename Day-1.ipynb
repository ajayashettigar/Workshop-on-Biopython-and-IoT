{
 "cells": [
  {
   "cell_type": "markdown",
   "id": "50cc5fe5",
   "metadata": {},
   "source": [
    "# Welcome to FDP!\n",
    "## Day-1\n",
    "\n",
    "we are learning variables and datatypes.\n",
    "What are the different datatypes in python?\n",
    "\n",
    "* list\n",
    "* tuple\n",
    "* strings"
   ]
  },
  {
   "cell_type": "code",
   "execution_count": 6,
   "id": "59bd9fd8",
   "metadata": {},
   "outputs": [
    {
     "name": "stdout",
     "output_type": "stream",
     "text": [
      "(1, 2, 3, 4)\n"
     ]
    }
   ],
   "source": [
    "Aj = (1,2,3,4)\n",
    "print(Aj)"
   ]
  }
 ],
 "metadata": {
  "kernelspec": {
   "display_name": "Python 3 (ipykernel)",
   "language": "python",
   "name": "python3"
  },
  "language_info": {
   "codemirror_mode": {
    "name": "ipython",
    "version": 3
   },
   "file_extension": ".py",
   "mimetype": "text/x-python",
   "name": "python",
   "nbconvert_exporter": "python",
   "pygments_lexer": "ipython3",
   "version": "3.11.5"
  }
 },
 "nbformat": 4,
 "nbformat_minor": 5
}
